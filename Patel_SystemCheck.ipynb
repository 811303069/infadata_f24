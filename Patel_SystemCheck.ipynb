{
 "cells": [
  {
   "cell_type": "markdown",
   "id": "cf3b604b",
   "metadata": {},
   "source": [
    "# Interactive Data"
   ]
  },
  {
   "cell_type": "markdown",
   "id": "f76a1d13",
   "metadata": {},
   "source": [
    "## What I hope to get out of this class"
   ]
  },
  {
   "cell_type": "markdown",
   "id": "b05103a4",
   "metadata": {},
   "source": [
    "### Python Programming language"
   ]
  },
  {
   "cell_type": "markdown",
   "id": "3fc20ac8",
   "metadata": {},
   "source": [
    "*To understand concepts and fundamentals of Data Analytics*"
   ]
  },
  {
   "cell_type": "markdown",
   "id": "c319eb8a",
   "metadata": {},
   "source": [
    "**Develop problem-solving skills**"
   ]
  },
  {
   "cell_type": "markdown",
   "id": "f54b03d9",
   "metadata": {},
   "source": [
    "* Understand core concepts\n",
    "* Implementing on real projects\n",
    "* Gain hands-on experience"
   ]
  },
  {
   "cell_type": "code",
   "execution_count": 6,
   "id": "cf29790f",
   "metadata": {},
   "outputs": [
    {
     "name": "stdout",
     "output_type": "stream",
     "text": [
      "The result of 10 + 5 is 15.\n"
     ]
    }
   ],
   "source": [
    "# Variable assignment\n",
    "x = 10\n",
    "y = 5\n",
    "result = x + y\n",
    "print(f\"The result of {x} + {y} is {result}.\")"
   ]
  },
  {
   "cell_type": "code",
   "execution_count": 7,
   "id": "4941abae",
   "metadata": {},
   "outputs": [
    {
     "name": "stdout",
     "output_type": "stream",
     "text": [
      "Iteration 0: This is an example of a for loop.\n",
      "Iteration 1: This is an example of a for loop.\n",
      "Iteration 2: This is an example of a for loop.\n",
      "Iteration 3: This is an example of a for loop.\n",
      "Iteration 4: This is an example of a for loop.\n"
     ]
    }
   ],
   "source": [
    "# For loop demonstration\n",
    "for i in range(5):\n",
    "    print(f\"Iteration {i}: This is an example of a for loop.\")"
   ]
  },
  {
   "cell_type": "code",
   "execution_count": 11,
   "id": "e2e0a965",
   "metadata": {},
   "outputs": [
    {
     "name": "stdout",
     "output_type": "stream",
     "text": [
      "Hello from a function\n"
     ]
    }
   ],
   "source": [
    "# Function definition\n",
    "def my_function():\n",
    "      print(\"Hello from a function\")\n",
    "my_function()"
   ]
  },
  {
   "cell_type": "markdown",
   "id": "73909d9c-06a1-4568-a2c3-7262fcf84d41",
   "metadata": {},
   "source": [
    "![Waterfall](https://images.unsplash.com/photo-1593322962878-a4b73deb1e39?ixid=MXwxMjA3fDB8MHx0b3BpYy1mZWVkfDc3NHw2c01WalRMU2tlUXx8ZW58MHx8fA%3D%3D&ixlib=rb-1.2.1&auto=format&fit=crop&w=800&q=60)"
   ]
  },
  {
   "cell_type": "code",
   "execution_count": null,
   "id": "5f61baf2-c2d8-4860-bd9e-03e9e9b13050",
   "metadata": {},
   "outputs": [],
   "source": []
  }
 ],
 "metadata": {
  "kernelspec": {
   "display_name": "Python 3 (ipykernel)",
   "language": "python",
   "name": "python3"
  },
  "language_info": {
   "codemirror_mode": {
    "name": "ipython",
    "version": 3
   },
   "file_extension": ".py",
   "mimetype": "text/x-python",
   "name": "python",
   "nbconvert_exporter": "python",
   "pygments_lexer": "ipython3",
   "version": "3.11.7"
  }
 },
 "nbformat": 4,
 "nbformat_minor": 5
}
