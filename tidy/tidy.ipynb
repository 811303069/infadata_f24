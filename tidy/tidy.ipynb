{
 "cells": [
  {
   "cell_type": "code",
   "execution_count": 1,
   "id": "c5ba5239-d095-4daf-a5e4-560b56ab11fa",
   "metadata": {},
   "outputs": [],
   "source": [
    "import pandas as pd\n",
    "import json"
   ]
  },
  {
   "cell_type": "code",
   "execution_count": 6,
   "id": "28b0a0be-f0c7-409a-ba46-df7f1cfb24f3",
   "metadata": {},
   "outputs": [],
   "source": [
    "# Load JSON file as a dictionary\n",
    "with open(\"C:/Users/khush/Downloads/chessbuds_messages.json\") as file:\n",
    "    data = json.load(file)"
   ]
  },
  {
   "cell_type": "code",
   "execution_count": 8,
   "id": "3cf441cc-2e19-42f9-a7ac-2bbea3b6029f",
   "metadata": {},
   "outputs": [
    {
     "name": "stdout",
     "output_type": "stream",
     "text": [
      "<class 'dict'>\n",
      "dict_keys(['participants', 'messages', 'title', 'is_still_participant', 'thread_type', 'thread_path', 'magic_words', 'joinable_mode'])\n",
      "[{'sender_name': 'Joanna Rusch', 'timestamp_ms': 1666374933946, 'content': \"Maybe he just wants to ride the publicity for a bit longer, even if he doesn't get any money from the lawsuit. Like, I didn't know his name before this but I certainly do now.\", 'reactions': [{'reaction': 'ð\\x9f\\x91\\x8d', 'actor': 'Chad Larson'}, {'reaction': 'ð\\x9f\\x91\\x8d', 'actor': 'Chad Larson'}], 'type': 'Generic', 'is_unsent': False, 'is_taken_down': False, 'bumped_message_metadata': {'bumped_message': \"Maybe he just wants to ride the publicity for a bit longer, even if he doesn't get any money from the lawsuit. Like, I didn't know his name before this but I certainly do now.\", 'is_bumped': False}}, {'sender_name': 'Chad Larson', 'timestamp_ms': 1666373448613, 'content': 'To be fair to Hans....no one wants to be associated with an \"anal bead\" theory.', 'reactions': [{'reaction': 'ð\\x9f\\x98\\x86', 'actor': 'Scott Pence'}, {'reaction': 'ð\\x9f\\x98\\x86', 'actor': 'Scott Pence'}], 'type': 'Generic', 'is_unsent': False, 'is_taken_down': False, 'bumped_message_metadata': {'bumped_message': 'To be fair to Hans....no one wants to be associated with an \"anal bead\" theory.', 'is_bumped': False}}, {'sender_name': 'Chad Larson', 'timestamp_ms': 1666373216381, 'content': \"He would have to prove he didn't cheat and that they knew he didn't cheat....and made it all up.  That's not provable.\", 'reactions': [{'reaction': 'ð\\x9f\\x91\\x8d', 'actor': 'Scott Pence'}, {'reaction': 'ð\\x9f\\x91\\x8d', 'actor': 'Scott Pence'}], 'type': 'Generic', 'is_unsent': False, 'is_taken_down': False, 'bumped_message_metadata': {'bumped_message': \"He would have to prove he didn't cheat and that they knew he didn't cheat....and made it all up.  That's not provable.\", 'is_bumped': False}}]\n"
     ]
    }
   ],
   "source": [
    "# Explore the structure of the data\n",
    "print(type(data))  # Check the type of data\n",
    "print(data.keys()) # Print the top-level keys of the dictionary\n",
    "print(data['messages'][:3])"
   ]
  },
  {
   "cell_type": "markdown",
   "id": "bf193006-b8bf-4159-893e-23333ebc55f2",
   "metadata": {},
   "source": [
    " what you found out about the structure of the messages data \n",
    " it Describe the structure of the data based on your findings. and Typically, the JSON might have a structure like {'messages': [list of message objects]}.here the data is so hard to read."
   ]
  },
  {
   "cell_type": "code",
   "execution_count": 9,
   "id": "f04fe86e-7a3b-4014-84ce-20fff3060c9c",
   "metadata": {},
   "outputs": [],
   "source": [
    "# Convert the relevant part of the data into a DataFrame\n",
    "messages = data['messages']  # Extract the list of messages\n",
    "df = pd.DataFrame(messages)"
   ]
  },
  {
   "cell_type": "code",
   "execution_count": 10,
   "id": "c7e6d585-b370-4d14-99dc-0ff02490606f",
   "metadata": {},
   "outputs": [],
   "source": [
    "# Convert the relevant part of the data into a DataFrame\n",
    "messages = data['messages']  # Extract the list of messages\n",
    "df = pd.DataFrame(messages)"
   ]
  },
  {
   "cell_type": "code",
   "execution_count": 11,
   "id": "5408f039-3784-47f9-8112-c12850cf13ce",
   "metadata": {},
   "outputs": [
    {
     "name": "stdout",
     "output_type": "stream",
     "text": [
      "    sender_name   timestamp_ms  \\\n",
      "0  Joanna Rusch  1666374933946   \n",
      "1   Chad Larson  1666373448613   \n",
      "2   Chad Larson  1666373216381   \n",
      "3   Scott Pence  1666373164883   \n",
      "4   Chad Larson  1666373111157   \n",
      "\n",
      "                                             content  \\\n",
      "0  Maybe he just wants to ride the publicity for ...   \n",
      "1  To be fair to Hans....no one wants to be assoc...   \n",
      "2  He would have to prove he didn't cheat and tha...   \n",
      "3  Yeah, no way. You over shoot and hope to get a...   \n",
      "4  From what I see, I don't think he could win.  ...   \n",
      "\n",
      "                                           reactions     type  is_unsent  \\\n",
      "0  [{'reaction': 'ð', 'actor': 'Chad Larson'},...  Generic      False   \n",
      "1  [{'reaction': 'ð', 'actor': 'Scott Pence'},...  Generic      False   \n",
      "2  [{'reaction': 'ð', 'actor': 'Scott Pence'},...  Generic      False   \n",
      "3  [{'reaction': 'ð', 'actor': 'Chad Larson'},...  Generic      False   \n",
      "4                                                NaN  Generic      False   \n",
      "\n",
      "   is_taken_down                            bumped_message_metadata share  \\\n",
      "0          False  {'bumped_message': 'Maybe he just wants to rid...   NaN   \n",
      "1          False  {'bumped_message': 'To be fair to Hans....no o...   NaN   \n",
      "2          False  {'bumped_message': 'He would have to prove he ...   NaN   \n",
      "3          False  {'bumped_message': 'Yeah, no way. You over sho...   NaN   \n",
      "4          False  {'bumped_message': 'From what I see, I don't t...   NaN   \n",
      "\n",
      "  photos gifs users  \n",
      "0    NaN  NaN   NaN  \n",
      "1    NaN  NaN   NaN  \n",
      "2    NaN  NaN   NaN  \n",
      "3    NaN  NaN   NaN  \n",
      "4    NaN  NaN   NaN  \n",
      "Index(['sender_name', 'timestamp_ms', 'content', 'reactions', 'type',\n",
      "       'is_unsent', 'is_taken_down', 'bumped_message_metadata', 'share',\n",
      "       'photos', 'gifs', 'users'],\n",
      "      dtype='object')\n"
     ]
    }
   ],
   "source": [
    "# Display the first few rows of the DataFrame\n",
    "print(df.head())\n",
    "\n",
    "# Check for nested structures or lists that need to be normalized\n",
    "print(df.columns)"
   ]
  },
  {
   "cell_type": "markdown",
   "id": "ed94925e-3769-4345-9462-b3255af3e623",
   "metadata": {},
   "source": [
    "Explain any transformations applied to make the DataFrame tidy, such as flattening nested JSON structures, splitting lists into separate rows, etc.\n",
    "Describe what each row and column represents. \n",
    "Rows (Observations) and  Columns (Variables)\n"
   ]
  },
  {
   "cell_type": "markdown",
   "id": "bbbece3a-094f-45c3-9ffe-e813da7d8721",
   "metadata": {},
   "source": [
    "Justify Why the DataFrame Meets Tidy Data Principles\n",
    "Because each row represents a single observation (one message), each column represents a single variable (such as sender, timestamp, or content), and the DataFrame only focuses on one kind of observational unit—messages—it complies with tidy data principles. This guarantees that the information is arranged for ease of manipulation, examination, and visualization. If the data about senders is repetitive and complex, alternative tidy formats might include putting sender information into a separate table."
   ]
  },
  {
   "cell_type": "markdown",
   "id": "d8dae24f-e4ee-4937-ae98-811d814089f6",
   "metadata": {},
   "source": [
    "Explore Alternative Tidy Formats\n",
    "  Alternative tidy formats could be making distinct tables for nested data, such as attachments or reactions, and making sure each has its own rows and variables. Another option would be to separate detailed sender information into a separate table that is linked by sender_id. A different approach would be to group messages based on time intervals, with columns for counts or other metrics representing each row as a time period. Depending on the focus, these formats simplify analysis and maintain data organization.\r\n"
   ]
  },
  {
   "cell_type": "markdown",
   "id": "667c51e0-e49f-47ec-b304-7ed63a5e0a8e",
   "metadata": {},
   "source": [
    "Propose a potential visualization to better understand the data.\n",
    "  Example: A bar chart could be used to visualize the frequency of messages sent by each sender over time. The sender variable would be mapped to the x-axis, and the count of messages to the y-axis. Alternatively, a line plot could show message frequency over time, with the timestamp variable on the x-axis and the number of messages on the y-axis, allowing for trend analysis.\n"
   ]
  }
 ],
 "metadata": {
  "kernelspec": {
   "display_name": "Python 3 (ipykernel)",
   "language": "python",
   "name": "python3"
  },
  "language_info": {
   "codemirror_mode": {
    "name": "ipython",
    "version": 3
   },
   "file_extension": ".py",
   "mimetype": "text/x-python",
   "name": "python",
   "nbconvert_exporter": "python",
   "pygments_lexer": "ipython3",
   "version": "3.11.7"
  }
 },
 "nbformat": 4,
 "nbformat_minor": 5
}
